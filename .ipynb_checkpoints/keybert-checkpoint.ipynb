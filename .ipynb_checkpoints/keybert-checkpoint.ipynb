{
 "cells": [
  {
   "cell_type": "markdown",
   "id": "3873a2d3",
   "metadata": {},
   "source": [
    "# KeyBERT Review\n",
    "\n",
    "### Derrick Luyen\n",
    "### ICS 691B Final Project"
   ]
  },
  {
   "cell_type": "code",
   "execution_count": 1,
   "id": "e2091f51",
   "metadata": {},
   "outputs": [
    {
     "name": "stdout",
     "output_type": "stream",
     "text": [
      "Collecting keybert\n",
      "  Using cached keybert-0.7.0.tar.gz (21 kB)\n",
      "  Preparing metadata (setup.py) ... \u001b[?25ldone\n",
      "\u001b[?25hRequirement already satisfied: sentence-transformers>=0.3.8 in /Users/derrickluyen/opt/anaconda3/envs/py310/lib/python3.10/site-packages (from keybert) (2.2.2)\n",
      "Requirement already satisfied: scikit-learn>=0.22.2 in /Users/derrickluyen/opt/anaconda3/envs/py310/lib/python3.10/site-packages (from keybert) (1.1.3)\n",
      "Requirement already satisfied: numpy>=1.18.5 in /Users/derrickluyen/opt/anaconda3/envs/py310/lib/python3.10/site-packages (from keybert) (1.23.5)\n",
      "Collecting rich>=10.4.0\n",
      "  Using cached rich-12.6.0-py3-none-any.whl (237 kB)\n",
      "Requirement already satisfied: pygments<3.0.0,>=2.6.0 in /Users/derrickluyen/opt/anaconda3/envs/py310/lib/python3.10/site-packages (from rich>=10.4.0->keybert) (2.11.2)\n",
      "Collecting commonmark<0.10.0,>=0.9.0\n",
      "  Using cached commonmark-0.9.1-py2.py3-none-any.whl (51 kB)\n",
      "Requirement already satisfied: threadpoolctl>=2.0.0 in /Users/derrickluyen/opt/anaconda3/envs/py310/lib/python3.10/site-packages (from scikit-learn>=0.22.2->keybert) (3.1.0)\n",
      "Requirement already satisfied: scipy>=1.3.2 in /Users/derrickluyen/opt/anaconda3/envs/py310/lib/python3.10/site-packages (from scikit-learn>=0.22.2->keybert) (1.9.3)\n",
      "Requirement already satisfied: joblib>=1.0.0 in /Users/derrickluyen/opt/anaconda3/envs/py310/lib/python3.10/site-packages (from scikit-learn>=0.22.2->keybert) (1.2.0)\n",
      "Requirement already satisfied: nltk in /Users/derrickluyen/opt/anaconda3/envs/py310/lib/python3.10/site-packages (from sentence-transformers>=0.3.8->keybert) (3.7)\n",
      "Requirement already satisfied: transformers<5.0.0,>=4.6.0 in /Users/derrickluyen/opt/anaconda3/envs/py310/lib/python3.10/site-packages (from sentence-transformers>=0.3.8->keybert) (4.24.0)\n",
      "Requirement already satisfied: huggingface-hub>=0.4.0 in /Users/derrickluyen/opt/anaconda3/envs/py310/lib/python3.10/site-packages (from sentence-transformers>=0.3.8->keybert) (0.11.0)\n",
      "Requirement already satisfied: torchvision in /Users/derrickluyen/opt/anaconda3/envs/py310/lib/python3.10/site-packages (from sentence-transformers>=0.3.8->keybert) (0.14.0)\n",
      "Requirement already satisfied: torch>=1.6.0 in /Users/derrickluyen/opt/anaconda3/envs/py310/lib/python3.10/site-packages (from sentence-transformers>=0.3.8->keybert) (1.13.0)\n",
      "Requirement already satisfied: sentencepiece in /Users/derrickluyen/opt/anaconda3/envs/py310/lib/python3.10/site-packages (from sentence-transformers>=0.3.8->keybert) (0.1.97)\n",
      "Requirement already satisfied: tqdm in /Users/derrickluyen/opt/anaconda3/envs/py310/lib/python3.10/site-packages (from sentence-transformers>=0.3.8->keybert) (4.64.1)\n",
      "Requirement already satisfied: typing-extensions>=3.7.4.3 in /Users/derrickluyen/opt/anaconda3/envs/py310/lib/python3.10/site-packages (from huggingface-hub>=0.4.0->sentence-transformers>=0.3.8->keybert) (4.3.0)\n",
      "Requirement already satisfied: packaging>=20.9 in /Users/derrickluyen/opt/anaconda3/envs/py310/lib/python3.10/site-packages (from huggingface-hub>=0.4.0->sentence-transformers>=0.3.8->keybert) (21.3)\n",
      "Requirement already satisfied: pyyaml>=5.1 in /Users/derrickluyen/opt/anaconda3/envs/py310/lib/python3.10/site-packages (from huggingface-hub>=0.4.0->sentence-transformers>=0.3.8->keybert) (6.0)\n",
      "Requirement already satisfied: requests in /Users/derrickluyen/opt/anaconda3/envs/py310/lib/python3.10/site-packages (from huggingface-hub>=0.4.0->sentence-transformers>=0.3.8->keybert) (2.28.1)\n",
      "Requirement already satisfied: filelock in /Users/derrickluyen/opt/anaconda3/envs/py310/lib/python3.10/site-packages (from huggingface-hub>=0.4.0->sentence-transformers>=0.3.8->keybert) (3.8.0)\n",
      "Requirement already satisfied: regex!=2019.12.17 in /Users/derrickluyen/opt/anaconda3/envs/py310/lib/python3.10/site-packages (from transformers<5.0.0,>=4.6.0->sentence-transformers>=0.3.8->keybert) (2022.10.31)\n",
      "Requirement already satisfied: tokenizers!=0.11.3,<0.14,>=0.11.1 in /Users/derrickluyen/opt/anaconda3/envs/py310/lib/python3.10/site-packages (from transformers<5.0.0,>=4.6.0->sentence-transformers>=0.3.8->keybert) (0.13.2)\n",
      "Requirement already satisfied: click in /Users/derrickluyen/opt/anaconda3/envs/py310/lib/python3.10/site-packages (from nltk->sentence-transformers>=0.3.8->keybert) (8.1.3)\n",
      "Requirement already satisfied: pillow!=8.3.*,>=5.3.0 in /Users/derrickluyen/opt/anaconda3/envs/py310/lib/python3.10/site-packages (from torchvision->sentence-transformers>=0.3.8->keybert) (9.3.0)\n",
      "Requirement already satisfied: pyparsing!=3.0.5,>=2.0.2 in /Users/derrickluyen/opt/anaconda3/envs/py310/lib/python3.10/site-packages (from packaging>=20.9->huggingface-hub>=0.4.0->sentence-transformers>=0.3.8->keybert) (3.0.9)\n",
      "Requirement already satisfied: idna<4,>=2.5 in /Users/derrickluyen/opt/anaconda3/envs/py310/lib/python3.10/site-packages (from requests->huggingface-hub>=0.4.0->sentence-transformers>=0.3.8->keybert) (3.4)\n",
      "Requirement already satisfied: certifi>=2017.4.17 in /Users/derrickluyen/opt/anaconda3/envs/py310/lib/python3.10/site-packages (from requests->huggingface-hub>=0.4.0->sentence-transformers>=0.3.8->keybert) (2022.9.24)\n",
      "Requirement already satisfied: urllib3<1.27,>=1.21.1 in /Users/derrickluyen/opt/anaconda3/envs/py310/lib/python3.10/site-packages (from requests->huggingface-hub>=0.4.0->sentence-transformers>=0.3.8->keybert) (1.26.12)\n",
      "Requirement already satisfied: charset-normalizer<3,>=2 in /Users/derrickluyen/opt/anaconda3/envs/py310/lib/python3.10/site-packages (from requests->huggingface-hub>=0.4.0->sentence-transformers>=0.3.8->keybert) (2.0.4)\n",
      "Building wheels for collected packages: keybert\n",
      "  Building wheel for keybert (setup.py) ... \u001b[?25ldone\n",
      "\u001b[?25h  Created wheel for keybert: filename=keybert-0.7.0-py3-none-any.whl size=23776 sha256=2d78b06961a9d1e26f99d390a95a0e26a3448ba3636aa943cb8c056cc8488e4d\n",
      "  Stored in directory: /Users/derrickluyen/Library/Caches/pip/wheels/66/8d/e6/b0e2f8d883b0fd51819226f67ad9843e04913ce4a97241ff4b\n",
      "Successfully built keybert\n",
      "Installing collected packages: commonmark, rich, keybert\n",
      "Successfully installed commonmark-0.9.1 keybert-0.7.0 rich-12.6.0\n",
      "Note: you may need to restart the kernel to use updated packages.\n"
     ]
    }
   ],
   "source": [
    "# Installation\n",
    "# %pip install keybert"
   ]
  },
  {
   "cell_type": "markdown",
   "id": "e18b2c5a",
   "metadata": {},
   "source": [
    "## What is KeyBERT?\n",
    "\n",
    "- KEYWORD EXTRACTION\n",
    "    - technique used to extract keywords\n",
    "- takes advantage of BERT embeddings to get the key words / phrases\n",
    "- extracts words that are most similar to content / meaning of document\n"
   ]
  },
  {
   "cell_type": "markdown",
   "id": "538ad97b",
   "metadata": {},
   "source": [
    "### Basic Example"
   ]
  },
  {
   "cell_type": "code",
   "execution_count": 4,
   "id": "54bf8977",
   "metadata": {},
   "outputs": [
    {
     "data": {
      "text/plain": [
       "[('supervised', 0.6676),\n",
       " ('labeled', 0.4896),\n",
       " ('learning', 0.4813),\n",
       " ('training', 0.4134),\n",
       " ('labels', 0.3947)]"
      ]
     },
     "execution_count": 4,
     "metadata": {},
     "output_type": "execute_result"
    }
   ],
   "source": [
    "from keybert import KeyBERT\n",
    "\n",
    "doc = \"\"\"\n",
    "         Supervised learning is the machine learning task of learning a function that\n",
    "         maps an input to an output based on example input-output pairs. It infers a\n",
    "         function from labeled training data consisting of a set of training examples.\n",
    "         In supervised learning, each example is a pair consisting of an input object\n",
    "         (typically a vector) and a desired output value (also called the supervisory signal).\n",
    "         A supervised learning algorithm analyzes the training data and produces an inferred function,\n",
    "         which can be used for mapping new examples. An optimal scenario will allow for the\n",
    "         algorithm to correctly determine the class labels for unseen instances. This requires\n",
    "         the learning algorithm to generalize from the training data to unseen situations in a\n",
    "         'reasonable' way (see inductive bias).\n",
    "      \"\"\"\n",
    "\n",
    "kw_model = KeyBERT()\n",
    "keywords = kw_model.extract_keywords(doc)\n",
    "\n",
    "keywords"
   ]
  },
  {
   "cell_type": "markdown",
   "id": "8f135c92",
   "metadata": {},
   "source": [
    "### Explanation of Values\n",
    "\n",
    "We see that with the most basic call to extract_keywords, we are given 5 words, each with a value associated with it. That value is the calculated cosine similarity of the word and represents how similar the word is to the rest of the document. With cosine similarity, we know the highest value is 1 while the lowest is -1 which explains why higher values lead to more similarity."
   ]
  },
  {
   "cell_type": "code",
   "execution_count": null,
   "id": "51ff1252",
   "metadata": {},
   "outputs": [],
   "source": []
  }
 ],
 "metadata": {
  "kernelspec": {
   "display_name": "Python 3 (ipykernel)",
   "language": "python",
   "name": "python3"
  },
  "language_info": {
   "codemirror_mode": {
    "name": "ipython",
    "version": 3
   },
   "file_extension": ".py",
   "mimetype": "text/x-python",
   "name": "python",
   "nbconvert_exporter": "python",
   "pygments_lexer": "ipython3",
   "version": "3.10.8"
  }
 },
 "nbformat": 4,
 "nbformat_minor": 5
}
