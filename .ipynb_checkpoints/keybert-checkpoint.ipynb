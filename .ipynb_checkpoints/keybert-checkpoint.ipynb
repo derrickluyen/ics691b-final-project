{
 "cells": [
  {
   "cell_type": "markdown",
   "id": "3873a2d3",
   "metadata": {},
   "source": [
    "# Review of KeyBERT\n",
    "\n",
    "### Derrick Luyen\n",
    "### ICS 691B Final Project"
   ]
  },
  {
   "cell_type": "code",
   "execution_count": 1,
   "id": "e2091f51",
   "metadata": {},
   "outputs": [
    {
     "name": "stdout",
     "output_type": "stream",
     "text": [
      "Collecting keybert\n",
      "  Downloading keybert-0.7.0.tar.gz (21 kB)\n",
      "Requirement already satisfied: sentence-transformers>=0.3.8 in /Users/derrickluyen/opt/anaconda3/lib/python3.9/site-packages (from keybert) (2.2.2)\n",
      "Requirement already satisfied: scikit-learn>=0.22.2 in /Users/derrickluyen/opt/anaconda3/lib/python3.9/site-packages (from keybert) (1.0.2)\n",
      "Requirement already satisfied: numpy>=1.18.5 in /Users/derrickluyen/opt/anaconda3/lib/python3.9/site-packages (from keybert) (1.21.5)\n",
      "Collecting rich>=10.4.0\n",
      "  Downloading rich-12.6.0-py3-none-any.whl (237 kB)\n",
      "\u001b[K     |████████████████████████████████| 237 kB 5.6 MB/s eta 0:00:01\n",
      "\u001b[?25hCollecting commonmark<0.10.0,>=0.9.0\n",
      "  Downloading commonmark-0.9.1-py2.py3-none-any.whl (51 kB)\n",
      "\u001b[K     |████████████████████████████████| 51 kB 20.5 MB/s eta 0:00:01\n",
      "\u001b[?25hRequirement already satisfied: pygments<3.0.0,>=2.6.0 in /Users/derrickluyen/opt/anaconda3/lib/python3.9/site-packages (from rich>=10.4.0->keybert) (2.11.2)\n",
      "Requirement already satisfied: scipy>=1.1.0 in /Users/derrickluyen/opt/anaconda3/lib/python3.9/site-packages (from scikit-learn>=0.22.2->keybert) (1.7.3)\n",
      "Requirement already satisfied: joblib>=0.11 in /Users/derrickluyen/opt/anaconda3/lib/python3.9/site-packages (from scikit-learn>=0.22.2->keybert) (1.1.0)\n",
      "Requirement already satisfied: threadpoolctl>=2.0.0 in /Users/derrickluyen/opt/anaconda3/lib/python3.9/site-packages (from scikit-learn>=0.22.2->keybert) (2.2.0)\n",
      "Requirement already satisfied: sentencepiece in /Users/derrickluyen/opt/anaconda3/lib/python3.9/site-packages (from sentence-transformers>=0.3.8->keybert) (0.1.97)\n",
      "Requirement already satisfied: torchvision in /Users/derrickluyen/opt/anaconda3/lib/python3.9/site-packages (from sentence-transformers>=0.3.8->keybert) (0.14.0)\n",
      "Requirement already satisfied: huggingface-hub>=0.4.0 in /Users/derrickluyen/opt/anaconda3/lib/python3.9/site-packages (from sentence-transformers>=0.3.8->keybert) (0.10.1)\n",
      "Requirement already satisfied: nltk in /Users/derrickluyen/opt/anaconda3/lib/python3.9/site-packages (from sentence-transformers>=0.3.8->keybert) (3.7)\n",
      "Requirement already satisfied: tqdm in /Users/derrickluyen/opt/anaconda3/lib/python3.9/site-packages (from sentence-transformers>=0.3.8->keybert) (4.64.0)\n",
      "Requirement already satisfied: torch>=1.6.0 in /Users/derrickluyen/opt/anaconda3/lib/python3.9/site-packages (from sentence-transformers>=0.3.8->keybert) (1.13.0)\n",
      "Requirement already satisfied: transformers<5.0.0,>=4.6.0 in /Users/derrickluyen/opt/anaconda3/lib/python3.9/site-packages (from sentence-transformers>=0.3.8->keybert) (4.24.0)\n",
      "Requirement already satisfied: pyyaml>=5.1 in /Users/derrickluyen/opt/anaconda3/lib/python3.9/site-packages (from huggingface-hub>=0.4.0->sentence-transformers>=0.3.8->keybert) (6.0)\n",
      "Requirement already satisfied: typing-extensions>=3.7.4.3 in /Users/derrickluyen/opt/anaconda3/lib/python3.9/site-packages (from huggingface-hub>=0.4.0->sentence-transformers>=0.3.8->keybert) (4.1.1)\n",
      "Requirement already satisfied: packaging>=20.9 in /Users/derrickluyen/opt/anaconda3/lib/python3.9/site-packages (from huggingface-hub>=0.4.0->sentence-transformers>=0.3.8->keybert) (21.3)\n",
      "Requirement already satisfied: filelock in /Users/derrickluyen/opt/anaconda3/lib/python3.9/site-packages (from huggingface-hub>=0.4.0->sentence-transformers>=0.3.8->keybert) (3.6.0)\n",
      "Requirement already satisfied: requests in /Users/derrickluyen/opt/anaconda3/lib/python3.9/site-packages (from huggingface-hub>=0.4.0->sentence-transformers>=0.3.8->keybert) (2.27.1)\n",
      "Requirement already satisfied: pyparsing!=3.0.5,>=2.0.2 in /Users/derrickluyen/opt/anaconda3/lib/python3.9/site-packages (from packaging>=20.9->huggingface-hub>=0.4.0->sentence-transformers>=0.3.8->keybert) (3.0.4)\n",
      "Requirement already satisfied: regex!=2019.12.17 in /Users/derrickluyen/opt/anaconda3/lib/python3.9/site-packages (from transformers<5.0.0,>=4.6.0->sentence-transformers>=0.3.8->keybert) (2022.3.15)\n",
      "Requirement already satisfied: tokenizers!=0.11.3,<0.14,>=0.11.1 in /Users/derrickluyen/opt/anaconda3/lib/python3.9/site-packages (from transformers<5.0.0,>=4.6.0->sentence-transformers>=0.3.8->keybert) (0.13.1)\n",
      "Requirement already satisfied: click in /Users/derrickluyen/opt/anaconda3/lib/python3.9/site-packages (from nltk->sentence-transformers>=0.3.8->keybert) (8.0.4)\n",
      "Requirement already satisfied: urllib3<1.27,>=1.21.1 in /Users/derrickluyen/opt/anaconda3/lib/python3.9/site-packages (from requests->huggingface-hub>=0.4.0->sentence-transformers>=0.3.8->keybert) (1.26.9)\n",
      "Requirement already satisfied: certifi>=2017.4.17 in /Users/derrickluyen/opt/anaconda3/lib/python3.9/site-packages (from requests->huggingface-hub>=0.4.0->sentence-transformers>=0.3.8->keybert) (2021.10.8)\n",
      "Requirement already satisfied: charset-normalizer~=2.0.0 in /Users/derrickluyen/opt/anaconda3/lib/python3.9/site-packages (from requests->huggingface-hub>=0.4.0->sentence-transformers>=0.3.8->keybert) (2.0.4)\n",
      "Requirement already satisfied: idna<4,>=2.5 in /Users/derrickluyen/opt/anaconda3/lib/python3.9/site-packages (from requests->huggingface-hub>=0.4.0->sentence-transformers>=0.3.8->keybert) (3.3)\n",
      "Requirement already satisfied: pillow!=8.3.*,>=5.3.0 in /Users/derrickluyen/opt/anaconda3/lib/python3.9/site-packages (from torchvision->sentence-transformers>=0.3.8->keybert) (9.0.1)\n",
      "Building wheels for collected packages: keybert\n",
      "  Building wheel for keybert (setup.py) ... \u001b[?25ldone\n",
      "\u001b[?25h  Created wheel for keybert: filename=keybert-0.7.0-py3-none-any.whl size=23799 sha256=18688bf368a11e1fabcc60c66312d55cbc495e0916b6d5e78e65b16dddb62bfb\n",
      "  Stored in directory: /Users/derrickluyen/Library/Caches/pip/wheels/68/aa/41/82025d89b0eb97484c9ac7d527abf596765c41733af79f86b0\n",
      "Successfully built keybert\n",
      "Installing collected packages: commonmark, rich, keybert\n",
      "Successfully installed commonmark-0.9.1 keybert-0.7.0 rich-12.6.0\n",
      "Note: you may need to restart the kernel to use updated packages.\n"
     ]
    }
   ],
   "source": [
    "# Installation\n",
    "# %pip install keybert"
   ]
  },
  {
   "cell_type": "code",
   "execution_count": null,
   "id": "5ad62cb8",
   "metadata": {},
   "outputs": [],
   "source": []
  }
 ],
 "metadata": {
  "kernelspec": {
   "display_name": "Python 3 (ipykernel)",
   "language": "python",
   "name": "python3"
  },
  "language_info": {
   "codemirror_mode": {
    "name": "ipython",
    "version": 3
   },
   "file_extension": ".py",
   "mimetype": "text/x-python",
   "name": "python",
   "nbconvert_exporter": "python",
   "pygments_lexer": "ipython3",
   "version": "3.9.12"
  }
 },
 "nbformat": 4,
 "nbformat_minor": 5
}
